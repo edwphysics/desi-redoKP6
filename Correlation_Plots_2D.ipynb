{
 "cells": [
  {
   "cell_type": "code",
   "execution_count": null,
   "id": "ab6f0f35-a41b-4a13-8b8f-081dfef5deeb",
   "metadata": {},
   "outputs": [],
   "source": [
    "from astropy.io import fits\n",
    "import numpy as np\n",
    "from matplotlib import pylab as plt"
   ]
  },
  {
   "cell_type": "code",
   "execution_count": null,
   "id": "c5cfc03c-675e-4ffe-9864-01156922b376",
   "metadata": {},
   "outputs": [],
   "source": [
    "path = 'path_of_the_files'\n",
    "cf_lyalya = fits.open(f'{path}/correlation-lyalya/cf_lya_x_lya_exp.fits')\n",
    "cf_lyalyb = fits.open(f'{path}/correlation-lyalyb/cf_lya_x_lyb_exp.fits')\n",
    "cf_qsolya = fits.open(f'{path}/correlation-qsolya/cf_qso_x_lya_exp.fits')\n",
    "cf_qsolyb = fits.open(f'{path}/correlation-qsolyb/cf_qso_x_lyb_exp.fits')"
   ]
  },
  {
   "cell_type": "code",
   "execution_count": null,
   "id": "f204a8fe-71b7-4ba2-b924-3df57a91fee6",
   "metadata": {},
   "outputs": [],
   "source": [
    "# Lya x Lya\n",
    "corr_lyalya_data = cf_lyalya['COR'].data['DA']\n",
    "rp_lyalya = cf_lyalya['COR'].data['RP']\n",
    "rt_lyalya = cf_lyalya['COR'].data['RT']\n",
    "\n",
    "# Reshape the first measurement\n",
    "n_lyalya = int(np.sqrt(corr_lyalya_data.size))  # automatically determine grid size\n",
    "correlation_lyalya = corr_lyalya_data.reshape(n_lyalya, n_lyalya)\n",
    "\n",
    "# Build grid coordinates\n",
    "rpp_lyalya = rp_lyalya.reshape(n_lyalya, n_lyalya)      # parallel axis values\n",
    "rtt_lyalya = rt_lyalya.reshape(n_lyalya, n_lyalya)      # transverse axis values\n",
    "\n",
    "# Lya x Lyb\n",
    "corr_lyalyb_data = cf_lyalyb['COR'].data['DA']\n",
    "rp_lyalyb = cf_lyalyb['COR'].data['RP']\n",
    "rt_lyalyb = cf_lyalyb['COR'].data['RT']\n",
    "\n",
    "# Reshape the first measurement\n",
    "n_lyalyb = int(np.sqrt(corr_lyalyb_data.size))  # automatically determine grid size\n",
    "correlation_lyalyb = corr_lyalyb_data.reshape(n_lyalyb, n_lyalyb)\n",
    "\n",
    "# Build grid coordinates\n",
    "rpp_lyalyb = rp_lyalyb.reshape(n_lyalyb, n_lyalyb)      # parallel axis values\n",
    "rtt_lyalyb = rt_lyalyb.reshape(n_lyalyb, n_lyalyb)      # transverse axis values\n",
    "\n",
    "# Qso x Lya\n",
    "corr_qsolya_data = cf_qsolya['COR'].data['DA']\n",
    "rp_qsolya = cf_qsolya['COR'].data['RP']\n",
    "rt_qsolya = cf_qsolya['COR'].data['RT']\n",
    "\n",
    "# Reshape the first measurement\n",
    "correlation_qsolya = corr_qsolya_data.reshape(100, 50)\n",
    "\n",
    "# Build grid coordinates\n",
    "rpp_qsolya = rp_qsolya.reshape(100, 50)      # parallel axis values\n",
    "rtt_qsolya = rt_qsolya.reshape(100, 50)      # transverse axis values\n",
    "\n",
    "# Qso x Lyb\n",
    "corr_qsolyb_data = cf_qsolyb['COR'].data['DA']\n",
    "rp_qsolyb = cf_qsolyb['COR'].data['RP']\n",
    "rt_qsolyb = cf_qsolyb['COR'].data['RT']\n",
    "\n",
    "# Reshape the first measurement\n",
    "correlation_qsolyb = corr_qsolyb_data.reshape(100, 50)\n",
    "\n",
    "# Build grid coordinates\n",
    "rpp_qsolyb = rp_qsolyb.reshape(100, 50)      # parallel axis values\n",
    "rtt_qsolyb = rt_qsolyb.reshape(100, 50)      # transverse axis values"
   ]
  },
  {
   "cell_type": "code",
   "execution_count": null,
   "id": "38304522-573a-4bc9-bea9-4ea4ee548215",
   "metadata": {},
   "outputs": [],
   "source": [
    "plt.figure(figsize=(8,6))\n",
    "plt.yticks(fontsize=14)\n",
    "plt.xticks(fontsize=14)\n",
    "plt.pcolormesh(rtt_lyalya,rpp_lyalya,(rtt_lyalya**2 + rpp_lyalya**2)*correlation_lyalya,cmap='RdYlBu')\n",
    "plt.colorbar(label=r'$\\xi$($r_{\\parallel}$, $r_{\\perp}$)')\n",
    "plt.xlabel('$r_{\\perp}$ [Mpc/h]')\n",
    "plt.ylabel('$r_{\\parallel}$ [Mpc/h]')\n",
    "plt.title(r'Correlation Function $\\xi$($r_{\\parallel}$, $r_{\\perp}$) $Ly\\alpha$ x $Ly\\alpha$')\n",
    "#plt.savefig('correlation_lyalya.png')\n",
    "plt.show()"
   ]
  },
  {
   "cell_type": "code",
   "execution_count": null,
   "id": "13607bb1-e8dd-4956-a423-aa405620dcbd",
   "metadata": {},
   "outputs": [],
   "source": [
    "plt.figure(figsize=(8,6))\n",
    "plt.yticks(fontsize=14)\n",
    "plt.xticks(fontsize=14)\n",
    "plt.pcolormesh(rtt_lyalyb,rpp_lyalyb,(rtt_lyalyb**2 + rpp_lyalyb**2)*correlation_lyalyb,cmap='RdYlBu')\n",
    "plt.colorbar(label=r'$\\xi$($r_{\\parallel}$, $r_{\\perp}$)')\n",
    "plt.xlabel('$r_{\\perp}$ [Mpc/h]')\n",
    "plt.ylabel('$r_{\\parallel}$ [Mpc/h]')\n",
    "plt.title(r'Correlation Function $\\xi$($r_{\\parallel}$, $r_{\\perp}$) $Ly\\alpha$ x $Ly\\beta$')\n",
    "#plt.savefig('correlation_lyalyb.png')\n",
    "plt.show()"
   ]
  },
  {
   "cell_type": "code",
   "execution_count": null,
   "id": "669f2277-834e-4221-a4a2-de8ceddb55d2",
   "metadata": {},
   "outputs": [],
   "source": [
    "plt.figure(figsize=(8,6))\n",
    "plt.yticks(fontsize=14)\n",
    "plt.xticks(fontsize=14)\n",
    "plt.pcolormesh(rtt_qsolya, rpp_qsolya, (rtt_qsolya**2 + rpp_qsolya**2)*correlation_qsolya,cmap='RdYlBu')\n",
    "plt.colorbar(label=r'$\\xi$($r_{\\parallel}$, $r_{\\perp}$)')\n",
    "plt.xlabel('$r_{\\perp}$ [Mpc/h]')\n",
    "plt.ylabel('$r_{\\parallel}$ [Mpc/h]')\n",
    "plt.title(r'Correlation Function $\\xi$($r_{\\parallel}$, $r_{\\perp}$) $QSO$ x $Ly\\alpha$')\n",
    "#plt.savefig('correlation_qsolya.png')\n",
    "plt.show()"
   ]
  },
  {
   "cell_type": "code",
   "execution_count": null,
   "id": "95166073-5e41-4b7d-898f-a839c5e1008e",
   "metadata": {},
   "outputs": [],
   "source": [
    "plt.figure(figsize=(8,6))\n",
    "plt.yticks(fontsize=14)\n",
    "plt.xticks(fontsize=14)\n",
    "plt.pcolormesh(rtt_qsolyb, rpp_qsolyb, (rtt_qsolyb**2 + rpp_qsolyb**2)*correlation_qsolyb,cmap='RdYlBu')\n",
    "plt.colorbar(label=r'$\\xi$($r_{\\parallel}$, $r_{\\perp}$)')\n",
    "plt.xlabel('$r_{\\perp}$ [Mpc/h]')\n",
    "plt.ylabel('$r_{\\parallel}$ [Mpc/h]')\n",
    "plt.title(r'Correlation Function $\\xi$($r_{\\parallel}$, $r_{\\perp}$) $QSO$ x $Ly\\beta$')\n",
    "#plt.savefig('correlation_qsolyab.png')\n",
    "plt.show()"
   ]
  },
  {
   "cell_type": "code",
   "execution_count": null,
   "id": "4c63c464-84a4-4fb5-9915-c7ca56b1565d",
   "metadata": {},
   "outputs": [],
   "source": []
  }
 ],
 "metadata": {
  "kernelspec": {
   "display_name": "Python 3 (ipykernel)",
   "language": "python",
   "name": "python3"
  },
  "language_info": {
   "codemirror_mode": {
    "name": "ipython",
    "version": 3
   },
   "file_extension": ".py",
   "mimetype": "text/x-python",
   "name": "python",
   "nbconvert_exporter": "python",
   "pygments_lexer": "ipython3",
   "version": "3.13.7"
  }
 },
 "nbformat": 4,
 "nbformat_minor": 5
}
