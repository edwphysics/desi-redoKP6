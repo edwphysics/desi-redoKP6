{
 "cells": [
  {
   "cell_type": "raw",
   "id": "77f41a29-53f8-400e-813c-eebe68f35a15",
   "metadata": {},
   "source": [
    "CREATE NECESSARY FOLDERS\n",
    "-------------------------\n",
    "\n",
    "cd $PSCRATCH\n",
    "mkdir redoKP6\n",
    "cd redoKP6\n",
    "mkdir deltas deltas/delta-ciii deltas/delta-lya deltas/delta-lyb\n",
    "mkdir correlations correlations/correlation-lyalya correlations/correlation-lyalyb correlations/correlation-qsolya correlations/correlation-qsolyb\n",
    "mkdir vegafits vegafits/lyaxlya_lyaxlyb_lyaxqso_lybxqso"
   ]
  },
  {
   "cell_type": "markdown",
   "id": "d14ad277-a068-4de9-b836-591eacbba77e",
   "metadata": {},
   "source": [
    "Install `picca` (see https://github.com/igmhub/picca) creating a suitable environment along with the installation."
   ]
  },
  {
   "cell_type": "raw",
   "id": "ec08bb89-388b-4550-bd11-df52312862bf",
   "metadata": {},
   "source": [
    "module load python\n",
    "conda create -n picca_v9.0.0 pip \n",
    "conda activate picca_v9.0.0\n",
    "pip install picca==v9.0.0"
   ]
  },
  {
   "cell_type": "markdown",
   "id": "205f6776-912d-449d-96b3-7ed30b035136",
   "metadata": {},
   "source": [
    "The right version must be the 9.0.0. You can make sure it was installed by running `python -c \"import picca; print(picca.__version__)\"` in your terminal. "
   ]
  },
  {
   "cell_type": "markdown",
   "id": "803deb1c-6236-473d-b310-e19eed74de8c",
   "metadata": {},
   "source": [
    "## Step 1: Generating the delta files"
   ]
  },
  {
   "cell_type": "markdown",
   "id": "e43fac04-1e7d-4d5f-8978-a0a436db1c06",
   "metadata": {},
   "source": [
    "It will be useful to define the following environment variable `export KP6_BASELINE=/global/cfs/cdirs/desi/science/lya/y1-kp6/iron-baseline`. From the KP6 directory baseline analysis we copy the configuration file to the CIII, lya, and lyb directories we just created."
   ]
  },
  {
   "cell_type": "raw",
   "id": "f7b1399f-cc06-4b31-9f9e-1fb962d73c4f",
   "metadata": {},
   "source": [
    "cd $PSCRATCH/redoKP6 \n",
    "cp $KP6_BASELINE/deltas/delta-ciii-0-0/picca_delta.ini  $PSCRATCH/redoKP6/deltas/delta-ciii/picca_delta_ciii.ini\n",
    "cp $KP6_BASELINE/deltas/delta-lya-0-0/picca_delta.ini  $PSCRATCH/redoKP6/deltas/delta-lya/picca_delta_lya.ini\n",
    "cp $KP6_BASELINE/deltas/delta-lyb-0-0/picca_delta.ini  $PSCRATCH/redoKP6/deltas/delta-lyb/picca_delta_lyb.ini"
   ]
  },
  {
   "cell_type": "code",
   "execution_count": 15,
   "id": "5608f209-445d-400b-bf4f-b6ae16fc2c4c",
   "metadata": {},
   "outputs": [],
   "source": [
    "# CHANGES IN THE configuration files"
   ]
  },
  {
   "cell_type": "code",
   "execution_count": 16,
   "id": "7bfe7587-f42c-42fb-a24e-0e67e1edcda2",
   "metadata": {},
   "outputs": [],
   "source": [
    "# CLUSTER COMMANDS, eg squeue, sbatch, scancel"
   ]
  },
  {
   "cell_type": "code",
   "execution_count": 17,
   "id": "f98b8f63-6c26-4e9a-9adf-413dacc37d78",
   "metadata": {},
   "outputs": [],
   "source": [
    "# What should appear and where if the process was successful"
   ]
  },
  {
   "cell_type": "code",
   "execution_count": null,
   "id": "33cdf3f4-9f05-4d53-959b-e376382a0eeb",
   "metadata": {},
   "outputs": [],
   "source": []
  }
 ],
 "metadata": {
  "kernelspec": {
   "display_name": "NERSC Python",
   "language": "python",
   "name": "python3"
  },
  "language_info": {
   "codemirror_mode": {
    "name": "ipython",
    "version": 3
   },
   "file_extension": ".py",
   "mimetype": "text/x-python",
   "name": "python",
   "nbconvert_exporter": "python",
   "pygments_lexer": "ipython3",
   "version": "3.11.7"
  }
 },
 "nbformat": 4,
 "nbformat_minor": 5
}
